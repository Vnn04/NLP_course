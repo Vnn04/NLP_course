{
 "cells": [
  {
   "cell_type": "code",
   "execution_count": 5,
   "metadata": {},
   "outputs": [],
   "source": [
    "import wikipediaapi\n",
    "import os\n",
    "import re\n",
    "import zipfile"
   ]
  },
  {
   "cell_type": "code",
   "execution_count": 11,
   "metadata": {},
   "outputs": [],
   "source": [
    "wiki_wiki = wikipediaapi.Wikipedia(\"CoolBot/0.0 (https://example.org/coolbot/; coolbot@example.org)\")"
   ]
  },
  {
   "cell_type": "markdown",
   "metadata": {},
   "source": [
    "#### List of article titles to fetch from Wikipedia"
   ]
  },
  {
   "cell_type": "code",
   "execution_count": 17,
   "metadata": {},
   "outputs": [],
   "source": [
    "articles = {\n",
    "    \"Science\": [\"Albert Einstein\", \"Quantum mechanics\", \"DNA\", \"Relativity\", \"Photosynthesis\", \n",
    "                \"Neuroscience\", \"Black hole\", \"Evolution\", \"Artificial Intelligence\", \"Genome\"],\n",
    "    \"Politics\": [\"Joe Biden\", \"United Nations\", \"Democracy\", \"Angela Merkel\", \"Donald Trump\", \n",
    "                 \"Barack Obama\", \"Vladimir Putin\", \"Constitution\", \"Human Rights\", \"European Union\"],\n",
    "    \"Nature\": [\"Amazon Rainforest\", \"Global warming\", \"Himalayas\", \"Pacific Ocean\", \"Coral reef\", \n",
    "               \"Sahara Desert\", \"Mount Everest\", \"Grand Canyon\", \"Wildlife conservation\", \"Ozone layer\"],\n",
    "    \"Sport\": [\"Olympic Games\", \"Lionel Messi\", \"Serena Williams\", \"Football\", \"Michael Jordan\", \n",
    "              \"Cristiano Ronaldo\", \"Usain Bolt\", \"LeBron James\", \"Roger Federer\", \"Tour de France\"],\n",
    "    \"Fashion\": [\"Coco Chanel\", \"Fashion design\", \"Louis Vuitton\", \"Gucci\", \"Vogue (magazine)\", \n",
    "                \"Prada\", \"Versace\", \"Dior\", \"Alexander McQueen\", \"Street fashion\"]\n",
    "}"
   ]
  },
  {
   "cell_type": "markdown",
   "metadata": {},
   "source": [
    "#### Folder where files will be saved"
   ]
  },
  {
   "cell_type": "code",
   "execution_count": 13,
   "metadata": {},
   "outputs": [],
   "source": [
    "folder_name = \"Data\""
   ]
  },
  {
   "cell_type": "code",
   "execution_count": 18,
   "metadata": {},
   "outputs": [],
   "source": [
    "if not os.path.exists(folder_name):\n",
    "    os.makedirs(folder_name)"
   ]
  },
  {
   "cell_type": "code",
   "execution_count": 20,
   "metadata": {},
   "outputs": [],
   "source": [
    "def save_article(article_title, article_id):\n",
    "    # Get Wikipedia page\n",
    "    page = wiki_wiki.page(article_title)\n",
    "\n",
    "    if page.exists():\n",
    "        # Clean the title for filename\n",
    "        title_cleaned = re.sub(r'[\\\\/*?:\"<>|]', \"\", article_title)\n",
    "\n",
    "        # Save the content \n",
    "        with open(f\"{folder_name}/{article_id} - {title_cleaned}.txt\", \"w\", encoding=\"utf-8\") as file:\n",
    "            file.write(page.text)\n",
    "        print(f\"Saved: {article_title}\")\n",
    "    else:\n",
    "        print(f\"Article '{article_title}' does not exist on Wikipedia.\")\n"
   ]
  },
  {
   "cell_type": "markdown",
   "metadata": {},
   "source": [
    "#### Start ID from 1 and save each article in the corresponding format"
   ]
  },
  {
   "cell_type": "code",
   "execution_count": 21,
   "metadata": {},
   "outputs": [
    {
     "name": "stdout",
     "output_type": "stream",
     "text": [
      "Saved: Albert Einstein\n",
      "Saved: Quantum mechanics\n",
      "Saved: DNA\n",
      "Saved: Relativity\n",
      "Saved: Photosynthesis\n",
      "Saved: Neuroscience\n",
      "Saved: Black hole\n",
      "Saved: Evolution\n",
      "Saved: Artificial Intelligence\n",
      "Saved: Genome\n",
      "Saved: Joe Biden\n",
      "Saved: United Nations\n",
      "Saved: Democracy\n",
      "Saved: Angela Merkel\n",
      "Saved: Donald Trump\n",
      "Saved: Barack Obama\n",
      "Saved: Vladimir Putin\n",
      "Saved: Constitution\n",
      "Saved: Human Rights\n",
      "Saved: European Union\n",
      "Saved: Amazon Rainforest\n",
      "Saved: Global warming\n",
      "Saved: Himalayas\n",
      "Saved: Pacific Ocean\n",
      "Saved: Coral reef\n",
      "Saved: Sahara Desert\n",
      "Saved: Mount Everest\n",
      "Saved: Grand Canyon\n",
      "Saved: Wildlife conservation\n",
      "Saved: Ozone layer\n",
      "Saved: Olympic Games\n",
      "Saved: Lionel Messi\n",
      "Saved: Serena Williams\n",
      "Saved: Football\n",
      "Saved: Michael Jordan\n",
      "Saved: Cristiano Ronaldo\n",
      "Saved: Usain Bolt\n",
      "Saved: LeBron James\n",
      "Saved: Roger Federer\n",
      "Saved: Tour de France\n",
      "Saved: Coco Chanel\n",
      "Saved: Fashion design\n",
      "Saved: Louis Vuitton\n",
      "Saved: Gucci\n",
      "Saved: Vogue (magazine)\n",
      "Saved: Prada\n",
      "Saved: Versace\n",
      "Saved: Dior\n",
      "Saved: Alexander McQueen\n",
      "Saved: Street fashion\n"
     ]
    }
   ],
   "source": [
    "article_id = 1\n",
    "for category, titles in articles.items():\n",
    "    for title in titles:\n",
    "        save_article(title, article_id)\n",
    "        article_id += 1"
   ]
  },
  {
   "cell_type": "markdown",
   "metadata": {},
   "source": [
    "#### Step 3: Zip the folder"
   ]
  },
  {
   "cell_type": "code",
   "execution_count": 22,
   "metadata": {},
   "outputs": [],
   "source": [
    "def zip_folder(folder_name):\n",
    "    zip_filename = f\"{folder_name}.zip\"\n",
    "    with zipfile.ZipFile(zip_filename, 'w', zipfile.ZIP_DEFLATED) as zipf:\n",
    "        for root, dirs, files in os.walk(folder_name):\n",
    "            for file in files:\n",
    "                zipf.write(os.path.join(root, file), os.path.relpath(os.path.join(root, file), folder_name))\n",
    "    print(f\"Zipped folder to {zip_filename}\")\n"
   ]
  },
  {
   "cell_type": "code",
   "execution_count": 23,
   "metadata": {},
   "outputs": [
    {
     "name": "stdout",
     "output_type": "stream",
     "text": [
      "Zipped folder to Data.zip\n"
     ]
    }
   ],
   "source": [
    "zip_folder(folder_name)"
   ]
  }
 ],
 "metadata": {
  "kernelspec": {
   "display_name": "nlp_env",
   "language": "python",
   "name": "python3"
  },
  "language_info": {
   "codemirror_mode": {
    "name": "ipython",
    "version": 3
   },
   "file_extension": ".py",
   "mimetype": "text/x-python",
   "name": "python",
   "nbconvert_exporter": "python",
   "pygments_lexer": "ipython3",
   "version": "3.9.19"
  }
 },
 "nbformat": 4,
 "nbformat_minor": 2
}
